{
 "cells": [
  {
   "cell_type": "code",
   "execution_count": 21,
   "metadata": {
    "collapsed": true
   },
   "outputs": [],
   "source": [
    "%matplotlib inline\n",
    "import matplotlib.pyplot as plt\n",
    "import scipy\n",
    "import numpy as np"
   ]
  },
  {
   "cell_type": "code",
   "execution_count": 67,
   "metadata": {
    "collapsed": true
   },
   "outputs": [],
   "source": [
    "# calc_cooling coil paramteres:\n",
    "\n",
    "Qcsf_0  = -2160935.2513834536\n",
    "#Ta_re_cs = 15.0 \n",
    "Ta_re_cs = 15.0 \n",
    "Ta_sup_0 = 281.2\n",
    "Qcsf = -135467.78079130786\n",
    "#Ta_sup_cs = 15.0 \n",
    "Ta_sup_cs = 15.0 \n",
    "Tcs_sup_0 = 7L\n",
    "ma_sup_0 = 392.3009555500433\n",
    "Cpa = 1.008\n",
    "Ta_re_0 = 281.2\n",
    "ma_sup_cs = 12.02798323236849\n",
    "Tcs_re_0 = 15L"
   ]
  },
  {
   "cell_type": "code",
   "execution_count": 68,
   "metadata": {
    "collapsed": false
   },
   "outputs": [],
   "source": [
    "# Initialize temperatures\n",
    "tasup = Ta_sup_cs + 273\n",
    "tare = Ta_re_cs + 273\n",
    "tsc0 = Tcs_sup_0 + 273\n",
    "trc0 = Tcs_re_0 + 273\n",
    "mCw0 = Qcsf_0 / (tsc0 - trc0)\n",
    "\n",
    "# log mean temperature at nominal conditions\n",
    "TD10 = Ta_sup_0 - trc0\n",
    "TD20 = Ta_re_0 - tsc0\n",
    "LMRT0 = (TD20 - TD10) / scipy.log(TD20 / TD10)\n",
    "UA0 = Qcsf_0 / LMRT0\n",
    "\n",
    "AUa = UA0 * (ma_sup_cs / ma_sup_0) ** 0.77\n",
    "NTUc = AUa / (ma_sup_cs * Cpa * 1000)\n",
    "ec = 1 - scipy.exp(-NTUc)\n",
    "tc = (tare - tasup + tasup * ec) / ec  # contact temperature of coil\n",
    "\n",
    "k2 = -Qcsf / mCw0"
   ]
  },
  {
   "cell_type": "code",
   "execution_count": 69,
   "metadata": {
    "collapsed": true
   },
   "outputs": [],
   "source": [
    "def fh(x):\n",
    "    TD1 = tc - (k2 + x)\n",
    "    TD2 = tc - x\n",
    "    LMRT = (TD2 - TD1) / scipy.log(TD2 / TD1)\n",
    "    Eq = mCw0 * k2 - Qcsf_0 * (LMRT / LMRT0)\n",
    "    return Eq"
   ]
  },
  {
   "cell_type": "code",
   "execution_count": 76,
   "metadata": {
    "collapsed": false
   },
   "outputs": [
    {
     "name": "stderr",
     "output_type": "stream",
     "text": [
      "C:\\Users\\darthoma\\Anaconda2\\lib\\site-packages\\ipykernel\\__main__.py:4: RuntimeWarning: invalid value encountered in cdouble_scalars\n"
     ]
    },
    {
     "data": {
      "image/png": "[encoded data removed]",
      "text/plain": [
       "<matplotlib.figure.Figure at 0x87f3970>"
      ]
     },
     "metadata": {},
     "output_type": "display_data"
    }
   ],
   "source": [
    "xmin = min(trc0 - 1, 288)\n",
    "xmax = max(trc0 + 1, 290)\n",
    "\n",
    "x = np.linspace(xmin, xmax, 1000)\n",
    "y = np.vectorize(fh)(x)\n",
    "plt.plot(x, y)\n",
    "plt.plot((xmin, xmax), (0, 0), 'k-')\n",
    "plt.plot((trc0, trc0), (min(y).real, max(y).real), 'r-')\n",
    "\n",
    "bisect = scipy.optimize.bisect(fh, 0, 350, xtol=0.01, maxiter=500) \n",
    "plt.plot((bisect, bisect), (min(y).real, max(y).real), 'm-')\n",
    "plt.show()"
   ]
  },
  {
   "cell_type": "code",
   "execution_count": 54,
   "metadata": {
    "collapsed": false
   },
   "outputs": [
    {
     "data": {
      "text/plain": [
       "(288L, 288L)"
      ]
     },
     "execution_count": 54,
     "metadata": {},
     "output_type": "execute_result"
    }
   ],
   "source": [
    "(trc0, trc0)\n",
    "               "
   ]
  },
  {
   "cell_type": "code",
   "execution_count": 58,
   "metadata": {
    "collapsed": false
   },
   "outputs": [
    {
     "data": {
      "text/plain": [
       "(-139069.39941094397, 775103.32636274677)"
      ]
     },
     "execution_count": 58,
     "metadata": {},
     "output_type": "execute_result"
    }
   ],
   "source": [
    "(min(y).real, max(y).real)"
   ]
  },
  {
   "cell_type": "code",
   "execution_count": 73,
   "metadata": {
    "collapsed": false
   },
   "outputs": [
    {
     "name": "stderr",
     "output_type": "stream",
     "text": [
      "C:\\Users\\darthoma\\Anaconda2\\lib\\site-packages\\scipy\\optimize\\zeros.py:248: ComplexWarning: Casting complex values to real discards the imaginary part\n",
      "  r = _zeros._bisect(f,a,b,xtol,rtol,maxiter,args,full_output,disp)\n"
     ]
    },
    {
     "data": {
      "text/plain": [
       "287.3924255371094"
      ]
     },
     "execution_count": 73,
     "metadata": {},
     "output_type": "execute_result"
    }
   ],
   "source": [
    "import scipy.optimize\n",
    "scipy.optimize.bisect(fh, 0, 350, xtol=0.01, maxiter=500)"
   ]
  },
  {
   "cell_type": "code",
   "execution_count": null,
   "metadata": {
    "collapsed": true
   },
   "outputs": [],
   "source": []
  }
 ],
 "metadata": {
  "kernelspec": {
   "display_name": "Python 2",
   "language": "python",
   "name": "python2"
  },
  "language_info": {
   "codemirror_mode": {
    "name": "ipython",
    "version": 2
   },
   "file_extension": ".py",
   "mimetype": "text/x-python",
   "name": "python",
   "nbconvert_exporter": "python",
   "pygments_lexer": "ipython2",
   "version": "2.7.11"
  }
 },
 "nbformat": 4,
 "nbformat_minor": 0
}
